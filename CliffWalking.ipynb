{
 "cells": [
  {
   "cell_type": "code",
   "execution_count": 1,
   "id": "4ff7ec52-0359-432a-8bff-1bd1fa0b965f",
   "metadata": {},
   "outputs": [
    {
     "name": "stdout",
     "output_type": "stream",
     "text": [
      "Defaulting to user installation because normal site-packages is not writeable\n",
      "Requirement already satisfied: imageio in c:\\users\\yeng miller-chang\\appdata\\roaming\\python\\python311\\site-packages (2.34.1)\n",
      "Requirement already satisfied: numpy in c:\\users\\yeng miller-chang\\appdata\\roaming\\python\\python311\\site-packages (from imageio) (1.26.1)\n",
      "Requirement already satisfied: pillow>=8.3.2 in c:\\miniconda3_gatech\\lib\\site-packages (from imageio) (10.1.0)\n",
      "Defaulting to user installation because normal site-packages is not writeable\n",
      "Requirement already satisfied: gymnasium in c:\\users\\yeng miller-chang\\appdata\\roaming\\python\\python311\\site-packages (0.29.1)\n",
      "Requirement already satisfied: numpy>=1.21.0 in c:\\users\\yeng miller-chang\\appdata\\roaming\\python\\python311\\site-packages (from gymnasium) (1.26.1)\n",
      "Requirement already satisfied: cloudpickle>=1.2.0 in c:\\users\\yeng miller-chang\\appdata\\roaming\\python\\python311\\site-packages (from gymnasium) (3.0.0)\n",
      "Requirement already satisfied: typing-extensions>=4.3.0 in c:\\users\\yeng miller-chang\\appdata\\roaming\\python\\python311\\site-packages (from gymnasium) (4.11.0)\n",
      "Requirement already satisfied: farama-notifications>=0.0.1 in c:\\users\\yeng miller-chang\\appdata\\roaming\\python\\python311\\site-packages (from gymnasium) (0.0.4)\n",
      "Defaulting to user installation because normal site-packages is not writeable\n",
      "Requirement already satisfied: gymnasium[toy-text] in c:\\users\\yeng miller-chang\\appdata\\roaming\\python\\python311\\site-packages (0.29.1)\n",
      "Requirement already satisfied: numpy>=1.21.0 in c:\\users\\yeng miller-chang\\appdata\\roaming\\python\\python311\\site-packages (from gymnasium[toy-text]) (1.26.1)\n",
      "Requirement already satisfied: cloudpickle>=1.2.0 in c:\\users\\yeng miller-chang\\appdata\\roaming\\python\\python311\\site-packages (from gymnasium[toy-text]) (3.0.0)\n",
      "Requirement already satisfied: typing-extensions>=4.3.0 in c:\\users\\yeng miller-chang\\appdata\\roaming\\python\\python311\\site-packages (from gymnasium[toy-text]) (4.11.0)\n",
      "Requirement already satisfied: farama-notifications>=0.0.1 in c:\\users\\yeng miller-chang\\appdata\\roaming\\python\\python311\\site-packages (from gymnasium[toy-text]) (0.0.4)\n",
      "Requirement already satisfied: pygame>=2.1.3 in c:\\users\\yeng miller-chang\\appdata\\roaming\\python\\python311\\site-packages (from gymnasium[toy-text]) (2.5.2)\n",
      "Defaulting to user installation because normal site-packages is not writeable\n",
      "Requirement already satisfied: optuna in c:\\users\\yeng miller-chang\\appdata\\roaming\\python\\python311\\site-packages (3.6.1)\n",
      "Requirement already satisfied: alembic>=1.5.0 in c:\\users\\yeng miller-chang\\appdata\\roaming\\python\\python311\\site-packages (from optuna) (1.13.1)\n",
      "Requirement already satisfied: colorlog in c:\\users\\yeng miller-chang\\appdata\\roaming\\python\\python311\\site-packages (from optuna) (6.8.2)\n",
      "Requirement already satisfied: numpy in c:\\users\\yeng miller-chang\\appdata\\roaming\\python\\python311\\site-packages (from optuna) (1.26.1)\n",
      "Requirement already satisfied: packaging>=20.0 in c:\\miniconda3_gatech\\lib\\site-packages (from optuna) (23.1)\n",
      "Requirement already satisfied: sqlalchemy>=1.3.0 in c:\\users\\yeng miller-chang\\appdata\\roaming\\python\\python311\\site-packages (from optuna) (2.0.30)\n",
      "Requirement already satisfied: tqdm in c:\\miniconda3_gatech\\lib\\site-packages (from optuna) (4.65.0)\n",
      "Requirement already satisfied: PyYAML in c:\\users\\yeng miller-chang\\appdata\\roaming\\python\\python311\\site-packages (from optuna) (6.0.1)\n",
      "Requirement already satisfied: Mako in c:\\users\\yeng miller-chang\\appdata\\roaming\\python\\python311\\site-packages (from alembic>=1.5.0->optuna) (1.3.5)\n",
      "Requirement already satisfied: typing-extensions>=4 in c:\\users\\yeng miller-chang\\appdata\\roaming\\python\\python311\\site-packages (from alembic>=1.5.0->optuna) (4.11.0)\n",
      "Requirement already satisfied: greenlet!=0.4.17 in c:\\users\\yeng miller-chang\\appdata\\roaming\\python\\python311\\site-packages (from sqlalchemy>=1.3.0->optuna) (3.0.3)\n",
      "Requirement already satisfied: colorama in c:\\miniconda3_gatech\\lib\\site-packages (from colorlog->optuna) (0.4.6)\n",
      "Requirement already satisfied: MarkupSafe>=0.9.2 in c:\\users\\yeng miller-chang\\appdata\\roaming\\python\\python311\\site-packages (from Mako->alembic>=1.5.0->optuna) (2.1.3)\n"
     ]
    }
   ],
   "source": [
    "!pip install imageio\n",
    "!pip install gymnasium\n",
    "!pip install gymnasium[toy-text]\n",
    "!pip install optuna"
   ]
  },
  {
   "cell_type": "code",
   "execution_count": 2,
   "id": "48605024-2cfe-47d8-9510-908c9777ecb6",
   "metadata": {},
   "outputs": [],
   "source": [
    "# save video\n",
    "# https://stackoverflow.com/questions/60765613/how-to-show-episode-in-rendered-openai-gym-environment\n",
    "# Credit to ChatGPT\n",
    "import os\n",
    "import imageio\n",
    "import numpy as np\n",
    "from PIL import Image\n",
    "import PIL.ImageDraw as ImageDraw\n",
    "import matplotlib.pyplot as plt    \n",
    "import gymnasium\n",
    "import numpy as np\n",
    "import cv2\n",
    "from IPython.display import clear_output\n",
    "import optuna"
   ]
  },
  {
   "cell_type": "code",
   "execution_count": 3,
   "id": "f9ce5aee-7be1-4235-8036-ff9e64e33412",
   "metadata": {},
   "outputs": [],
   "source": [
    "N_EPISODES = 1200\n",
    "REWARD_AVG_EPS = 100"
   ]
  },
  {
   "cell_type": "code",
   "execution_count": 4,
   "id": "61aa61b4-4675-45f3-b67f-84b36d4a1b59",
   "metadata": {},
   "outputs": [],
   "source": [
    "#env = gymnasium.make(\"CliffWalking-v0\", render_mode = \"rgb_array\")# https://gymnasium.farama.org/environments/toy_text/cliff_walking/"
   ]
  },
  {
   "cell_type": "code",
   "execution_count": 23,
   "id": "56131e06-f6cd-42dc-a015-1593c38dc405",
   "metadata": {},
   "outputs": [],
   "source": [
    "def _label_with_episode_number(frame, episode_num):\n",
    "    im = Image.fromarray(frame)\n",
    "    drawer = ImageDraw.Draw(im)\n",
    "    if np.mean(im) < 128:\n",
    "        text_color = (255,255,255)\n",
    "    else:\n",
    "        text_color = (0,0,0)\n",
    "    drawer.text((im.size[0]/20,im.size[1]/18), f'Episode: {episode_num+1}', fill=text_color)\n",
    "    return im"
   ]
  },
  {
   "cell_type": "code",
   "execution_count": 24,
   "id": "eb7bac66-188e-42e4-8bd6-044dbdeb2577",
   "metadata": {},
   "outputs": [
    {
     "name": "stdout",
     "output_type": "stream",
     "text": [
      "Episode 19\n",
      "Epsilon = 0.6609348990684691\n"
     ]
    },
    {
     "ename": "KeyboardInterrupt",
     "evalue": "",
     "output_type": "error",
     "traceback": [
      "\u001b[1;31m---------------------------------------------------------------------------\u001b[0m",
      "\u001b[1;31mKeyboardInterrupt\u001b[0m                         Traceback (most recent call last)",
      "Cell \u001b[1;32mIn[24], line 26\u001b[0m\n\u001b[0;32m     24\u001b[0m   Q[obs, action] \u001b[38;5;241m=\u001b[39m Q[obs, action] \u001b[38;5;241m+\u001b[39m alpha \u001b[38;5;241m*\u001b[39m (reward \u001b[38;5;241m+\u001b[39m gamma \u001b[38;5;241m*\u001b[39m np\u001b[38;5;241m.\u001b[39mmax(Q[newObs, :]) \u001b[38;5;241m-\u001b[39m Q[obs, action])\n\u001b[0;32m     25\u001b[0m   obs \u001b[38;5;241m=\u001b[39m newObs\n\u001b[1;32m---> 26\u001b[0m   frame \u001b[38;5;241m=\u001b[39m \u001b[43menv\u001b[49m\u001b[38;5;241;43m.\u001b[39;49m\u001b[43mrender\u001b[49m\u001b[43m(\u001b[49m\u001b[43m)\u001b[49m\n\u001b[0;32m     27\u001b[0m   frames\u001b[38;5;241m.\u001b[39mappend(_label_with_episode_number(frame, episode_num \u001b[38;5;241m=\u001b[39m episode))\n\u001b[0;32m     28\u001b[0m \u001b[38;5;28mprint\u001b[39m(\u001b[38;5;124m\"\u001b[39m\u001b[38;5;124mReward = \u001b[39m\u001b[38;5;124m\"\u001b[39m \u001b[38;5;241m+\u001b[39m \u001b[38;5;28mstr\u001b[39m(totalReward))\n",
      "File \u001b[1;32m~\\AppData\\Roaming\\Python\\Python311\\site-packages\\gymnasium\\wrappers\\order_enforcing.py:70\u001b[0m, in \u001b[0;36mOrderEnforcing.render\u001b[1;34m(self, *args, **kwargs)\u001b[0m\n\u001b[0;32m     65\u001b[0m \u001b[38;5;28;01mif\u001b[39;00m \u001b[38;5;129;01mnot\u001b[39;00m \u001b[38;5;28mself\u001b[39m\u001b[38;5;241m.\u001b[39m_disable_render_order_enforcing \u001b[38;5;129;01mand\u001b[39;00m \u001b[38;5;129;01mnot\u001b[39;00m \u001b[38;5;28mself\u001b[39m\u001b[38;5;241m.\u001b[39m_has_reset:\n\u001b[0;32m     66\u001b[0m     \u001b[38;5;28;01mraise\u001b[39;00m ResetNeeded(\n\u001b[0;32m     67\u001b[0m         \u001b[38;5;124m\"\u001b[39m\u001b[38;5;124mCannot call `env.render()` before calling `env.reset()`, if this is a intended action, \u001b[39m\u001b[38;5;124m\"\u001b[39m\n\u001b[0;32m     68\u001b[0m         \u001b[38;5;124m\"\u001b[39m\u001b[38;5;124mset `disable_render_order_enforcing=True` on the OrderEnforcer wrapper.\u001b[39m\u001b[38;5;124m\"\u001b[39m\n\u001b[0;32m     69\u001b[0m     )\n\u001b[1;32m---> 70\u001b[0m \u001b[38;5;28;01mreturn\u001b[39;00m \u001b[38;5;28;43mself\u001b[39;49m\u001b[38;5;241;43m.\u001b[39;49m\u001b[43menv\u001b[49m\u001b[38;5;241;43m.\u001b[39;49m\u001b[43mrender\u001b[49m\u001b[43m(\u001b[49m\u001b[38;5;241;43m*\u001b[39;49m\u001b[43margs\u001b[49m\u001b[43m,\u001b[49m\u001b[43m \u001b[49m\u001b[38;5;241;43m*\u001b[39;49m\u001b[38;5;241;43m*\u001b[39;49m\u001b[43mkwargs\u001b[49m\u001b[43m)\u001b[49m\n",
      "File \u001b[1;32m~\\AppData\\Roaming\\Python\\Python311\\site-packages\\gymnasium\\wrappers\\env_checker.py:67\u001b[0m, in \u001b[0;36mPassiveEnvChecker.render\u001b[1;34m(self, *args, **kwargs)\u001b[0m\n\u001b[0;32m     65\u001b[0m     \u001b[38;5;28;01mreturn\u001b[39;00m env_render_passive_checker(\u001b[38;5;28mself\u001b[39m\u001b[38;5;241m.\u001b[39menv, \u001b[38;5;241m*\u001b[39margs, \u001b[38;5;241m*\u001b[39m\u001b[38;5;241m*\u001b[39mkwargs)\n\u001b[0;32m     66\u001b[0m \u001b[38;5;28;01melse\u001b[39;00m:\n\u001b[1;32m---> 67\u001b[0m     \u001b[38;5;28;01mreturn\u001b[39;00m \u001b[38;5;28;43mself\u001b[39;49m\u001b[38;5;241;43m.\u001b[39;49m\u001b[43menv\u001b[49m\u001b[38;5;241;43m.\u001b[39;49m\u001b[43mrender\u001b[49m\u001b[43m(\u001b[49m\u001b[38;5;241;43m*\u001b[39;49m\u001b[43margs\u001b[49m\u001b[43m,\u001b[49m\u001b[43m \u001b[49m\u001b[38;5;241;43m*\u001b[39;49m\u001b[38;5;241;43m*\u001b[39;49m\u001b[43mkwargs\u001b[49m\u001b[43m)\u001b[49m\n",
      "File \u001b[1;32m~\\AppData\\Roaming\\Python\\Python311\\site-packages\\gymnasium\\envs\\toy_text\\cliffwalking.py:206\u001b[0m, in \u001b[0;36mCliffWalkingEnv.render\u001b[1;34m(self)\u001b[0m\n\u001b[0;32m    204\u001b[0m     \u001b[38;5;28;01mreturn\u001b[39;00m \u001b[38;5;28mself\u001b[39m\u001b[38;5;241m.\u001b[39m_render_text()\n\u001b[0;32m    205\u001b[0m \u001b[38;5;28;01melse\u001b[39;00m:\n\u001b[1;32m--> 206\u001b[0m     \u001b[38;5;28;01mreturn\u001b[39;00m \u001b[38;5;28;43mself\u001b[39;49m\u001b[38;5;241;43m.\u001b[39;49m\u001b[43m_render_gui\u001b[49m\u001b[43m(\u001b[49m\u001b[38;5;28;43mself\u001b[39;49m\u001b[38;5;241;43m.\u001b[39;49m\u001b[43mrender_mode\u001b[49m\u001b[43m)\u001b[49m\n",
      "File \u001b[1;32m~\\AppData\\Roaming\\Python\\Python311\\site-packages\\gymnasium\\envs\\toy_text\\cliffwalking.py:296\u001b[0m, in \u001b[0;36mCliffWalkingEnv._render_gui\u001b[1;34m(self, mode)\u001b[0m\n\u001b[0;32m    293\u001b[0m     \u001b[38;5;28mself\u001b[39m\u001b[38;5;241m.\u001b[39mclock\u001b[38;5;241m.\u001b[39mtick(\u001b[38;5;28mself\u001b[39m\u001b[38;5;241m.\u001b[39mmetadata[\u001b[38;5;124m\"\u001b[39m\u001b[38;5;124mrender_fps\u001b[39m\u001b[38;5;124m\"\u001b[39m])\n\u001b[0;32m    294\u001b[0m \u001b[38;5;28;01melse\u001b[39;00m:  \u001b[38;5;66;03m# rgb_array\u001b[39;00m\n\u001b[0;32m    295\u001b[0m     \u001b[38;5;28;01mreturn\u001b[39;00m np\u001b[38;5;241m.\u001b[39mtranspose(\n\u001b[1;32m--> 296\u001b[0m         np\u001b[38;5;241m.\u001b[39marray(pygame\u001b[38;5;241m.\u001b[39msurfarray\u001b[38;5;241m.\u001b[39mpixels3d(\u001b[38;5;28mself\u001b[39m\u001b[38;5;241m.\u001b[39mwindow_surface)), axes\u001b[38;5;241m=\u001b[39m(\u001b[38;5;241m1\u001b[39m, \u001b[38;5;241m0\u001b[39m, \u001b[38;5;241m2\u001b[39m)\n\u001b[0;32m    297\u001b[0m     )\n",
      "\u001b[1;31mKeyboardInterrupt\u001b[0m: "
     ]
    }
   ],
   "source": [
    "env = gymnasium.make(\"CliffWalking-v0\", render_mode = \"rgb_array\")# https://gymnasium.farama.org/environments/toy_text/cliff_walking/\n",
    "Q = np.zeros((48, 4))\n",
    "terminated = False\n",
    "epsilon = 0.8\n",
    "alpha = 0.4\n",
    "gamma = 0.8\n",
    "DECAY_RATE = 0.01\n",
    "EPSILON_FLOOR = 0.01\n",
    "frames = []\n",
    "rewardEp = []\n",
    "movingAvg = []\n",
    "for episode in range(N_EPISODES):\n",
    "  print(\"Episode \" + str(episode))\n",
    "  print(\"Epsilon = \" + str(epsilon))\n",
    "  obs, _ = env.reset()\n",
    "  totalReward = 0\n",
    "  while not terminated:\n",
    "    if np.random.random() < epsilon:\n",
    "      action = env.action_space.sample()\n",
    "    else:\n",
    "      action = np.argmax(Q[obs, :])\n",
    "    newObs, reward, terminated, truncated, _ = env.step(action)\n",
    "    totalReward += reward\n",
    "    Q[obs, action] = Q[obs, action] + alpha * (reward + gamma * np.max(Q[newObs, :]) - Q[obs, action])\n",
    "    obs = newObs\n",
    "    frame = env.render()\n",
    "    frames.append(_label_with_episode_number(frame, episode_num = episode))\n",
    "  print(\"Reward = \" + str(totalReward))\n",
    "  rewardEp.append(totalReward)\n",
    "  if episode > REWARD_AVG_EPS - 1:\n",
    "    movingAvgReward = np.mean(rewardEp[-REWARD_AVG_EPS:])\n",
    "    movingAvg.append(movingAvgReward)\n",
    "    print(\"MovingAvgReward = \" + str(movingAvgReward))\n",
    "  else:\n",
    "    movingAvgReward = 0\n",
    "    movingAvg.append(None)\n",
    "  epsilon *= 1 - DECAY_RATE\n",
    "  if epsilon < EPSILON_FLOOR:\n",
    "      epsilon = EPSILON_FLOOR\n",
    "  terminated = False\n",
    "  # Plot the reward\n",
    "  plt.figure(0)\n",
    "  plt.xlabel('Episode')\n",
    "  plt.ylabel('Reward')\n",
    "  plt.plot(np.array(rewardEp[:episode]))\n",
    "  plt.plot(np.array(movingAvg[:episode]), color = 'red')\n",
    "  plt.figure(1)\n",
    "  plt.xlabel('Episode')\n",
    "  plt.ylabel('-Reward (log scale)')\n",
    "  plt.plot(-1*np.array(rewardEp[:episode]))\n",
    "  if episode > REWARD_AVG_EPS - 1:\n",
    "      # thanks to ChatGPT\n",
    "      plt.plot(np.where(np.array([isinstance(x, float) for x in movingAvg]), np.array([x * -1 if isinstance(x, float) else x for x in movingAvg]), movingAvg), color = 'red')\n",
    "  plt.yscale('log')\n",
    "  plt.show()\n",
    "  if episode < N_EPISODES - 1:\n",
    "   clear_output(wait = True)\n",
    "#imageio.mimwrite(os.path.join('./videos/', 'q_learning.gif'), frames, fps=60000)"
   ]
  },
  {
   "cell_type": "code",
   "execution_count": 7,
   "id": "b2de41ac-d141-437b-ac78-c8ae23115326",
   "metadata": {},
   "outputs": [],
   "source": [
    "# Specify the video frame size\n",
    "frame_width, frame_height = frames[0].size  # Assuming all images have the same size\n",
    "\n",
    "# Define the codec and create VideoWriter object\n",
    "fourcc = cv2.VideoWriter_fourcc(*'mp4v')  # You can change the codec as needed\n",
    "out = cv2.VideoWriter('./videos/output_video.mp4', fourcc, 25.0, (frame_width, frame_height))\n",
    "\n",
    "# Loop through each image\n",
    "for pil_image in frames:\n",
    "    # Convert PIL image to NumPy array\n",
    "    np_image = np.array(pil_image)\n",
    "    # Convert RGB to BGR (OpenCV uses BGR)\n",
    "    frame = cv2.cvtColor(np_image, cv2.COLOR_RGB2BGR)\n",
    "    out.write(frame)\n",
    "\n",
    "# Release the VideoWriter object\n",
    "out.release()"
   ]
  },
  {
   "cell_type": "code",
   "execution_count": 8,
   "id": "77de0180-f879-4fcb-8efa-2329871e4d92",
   "metadata": {},
   "outputs": [],
   "source": [
    "np.save(\"Q_matrix_new.npy\", Q)"
   ]
  },
  {
   "cell_type": "code",
   "execution_count": 9,
   "id": "0525e29f-ff17-4966-ab40-f0014e46721d",
   "metadata": {},
   "outputs": [
    {
     "data": {
      "text/plain": [
       "array([[  -4.76430487,   -4.75539156,   -4.75357504,   -4.76231459],\n",
       "       [  -4.75034772,   -4.7111359 ,   -4.71434028,   -4.77065782],\n",
       "       [  -4.6773077 ,   -4.64706735,   -4.64526656,   -4.71796242],\n",
       "       [  -4.6066154 ,   -4.5640335 ,   -4.56455566,   -4.67654109],\n",
       "       [  -4.53126896,   -4.45873491,   -4.45895766,   -4.61402807],\n",
       "       [  -4.44374346,   -4.32484395,   -4.32505109,   -4.55927342],\n",
       "       [  -4.28618237,   -4.15804442,   -4.16003807,   -4.43904896],\n",
       "       [  -4.13332815,   -3.94896012,   -3.94985549,   -4.29796539],\n",
       "       [  -3.9409066 ,   -3.68744887,   -3.68780751,   -4.11120708],\n",
       "       [  -3.64821003,   -3.36081677,   -3.36116063,   -3.93466169],\n",
       "       [  -3.20096969,   -2.9518712 ,   -2.95187214,   -3.67256328],\n",
       "       [  -2.90521246,   -2.80270962,   -2.43999829,   -3.23002147],\n",
       "       [  -4.77462078,   -4.72508459,   -4.72508678,   -4.75998969],\n",
       "       [  -4.76223284,   -4.65639283,   -4.65639275,   -4.77196388],\n",
       "       [  -4.70478361,   -4.57049851,   -4.57049942,   -4.72205778],\n",
       "       [  -4.63562705,   -4.46312739,   -4.46312776,   -4.65236629],\n",
       "       [  -4.55669704,   -4.32891083,   -4.328911  ,   -4.5697825 ],\n",
       "       [  -4.45014094,   -4.16113897,   -4.16113888,   -4.46221195],\n",
       "       [  -4.3111236 ,   -3.95142395,   -3.95142394,   -4.32376726],\n",
       "       [  -4.13215123,   -3.68927998,   -3.68927998,   -4.15829188],\n",
       "       [  -3.87748393,   -3.36159999,   -3.3616    ,   -3.94057431],\n",
       "       [  -3.67969613,   -2.952     ,   -2.952     ,   -3.64674614],\n",
       "       [  -3.36013381,   -2.44      ,   -2.44      ,   -3.36106365],\n",
       "       [  -2.94631365,   -2.43019696,   -1.8       ,   -2.94620636],\n",
       "       [  -4.78003451,   -4.65640262,   -4.78009764,   -4.72512209],\n",
       "       [  -4.72509428,   -4.57050327, -103.78009767,   -4.72512209],\n",
       "       [  -4.65637494,   -4.46312909, -103.78009767,   -4.65640257],\n",
       "       [  -4.57049752,   -4.32891136, -103.78009756,   -4.5705031 ],\n",
       "       [  -4.46312758,   -4.1611392 , -103.78009387,   -4.4631286 ],\n",
       "       [  -4.32887423,   -3.951424  , -103.78009411,   -4.32891039],\n",
       "       [  -4.16113241,   -3.68928   , -103.78009632,   -4.16113893],\n",
       "       [  -3.95141368,   -3.3616    , -103.78008844,   -3.95140334],\n",
       "       [  -3.68927987,   -2.952     , -103.7800973 ,   -3.68927495],\n",
       "       [  -3.36157003,   -2.44      , -103.78009487,   -3.36159763],\n",
       "       [  -2.95199825,   -1.8       , -103.78009711,   -2.95199847],\n",
       "       [  -2.4399923 ,   -1.79999693,   -1.        ,   -2.43999885],\n",
       "       [  -4.72512209, -103.78009767,   -4.78009767,   -4.78009767],\n",
       "       [   0.        ,    0.        ,    0.        ,    0.        ],\n",
       "       [   0.        ,    0.        ,    0.        ,    0.        ],\n",
       "       [   0.        ,    0.        ,    0.        ,    0.        ],\n",
       "       [   0.        ,    0.        ,    0.        ,    0.        ],\n",
       "       [   0.        ,    0.        ,    0.        ,    0.        ],\n",
       "       [   0.        ,    0.        ,    0.        ,    0.        ],\n",
       "       [   0.        ,    0.        ,    0.        ,    0.        ],\n",
       "       [   0.        ,    0.        ,    0.        ,    0.        ],\n",
       "       [   0.        ,    0.        ,    0.        ,    0.        ],\n",
       "       [   0.        ,    0.        ,    0.        ,    0.        ],\n",
       "       [   0.        ,    0.        ,    0.        ,    0.        ]])"
      ]
     },
     "execution_count": 9,
     "metadata": {},
     "output_type": "execute_result"
    }
   ],
   "source": [
    "Q"
   ]
  },
  {
   "cell_type": "markdown",
   "id": "75354c03-0ca6-4708-a8e4-d6164c3c2d53",
   "metadata": {},
   "source": [
    "# Testing"
   ]
  },
  {
   "cell_type": "code",
   "execution_count": 19,
   "id": "d57bb524-5501-4bbc-a63b-26abb52d826c",
   "metadata": {},
   "outputs": [],
   "source": [
    "env = gymnasium.make(\"CliffWalking-v0\", render_mode = \"rgb_array\")"
   ]
  },
  {
   "cell_type": "code",
   "execution_count": 20,
   "id": "0aa60e1b-78f4-4bd0-9083-8c65742888c7",
   "metadata": {},
   "outputs": [],
   "source": [
    "N_EPISODES = 1000\n",
    "terminated = False\n",
    "REWARD_AVG_EPS = 100"
   ]
  },
  {
   "cell_type": "code",
   "execution_count": 21,
   "id": "b509f33e-5832-43c1-99a7-79f61dd835b6",
   "metadata": {},
   "outputs": [
    {
     "name": "stdout",
     "output_type": "stream",
     "text": [
      "Episode 999\n",
      "Reward = -13\n"
     ]
    },
    {
     "data": {
      "image/png": "[encoded data removed]",
      "text/plain": [
       "<Figure size 640x480 with 1 Axes>"
      ]
     },
     "metadata": {},
     "output_type": "display_data"
    }
   ],
   "source": [
    "frames = []\n",
    "rewardEp = []\n",
    "movingAvg = []\n",
    "for episode in range(N_EPISODES):\n",
    "  print(\"Episode \" + str(episode))\n",
    "  obs, _ = env.reset()\n",
    "  totalReward = 0\n",
    "  while not terminated:\n",
    "    #print(str(obs) + \" \" + str(action))\n",
    "    action = np.argmax(Q[obs, :])\n",
    "    newObs, reward, terminated, truncated, _ = env.step(action)\n",
    "    totalReward += reward\n",
    "    obs = newObs\n",
    "    frame = env.render()\n",
    "    frames.append(_label_with_episode_number(frame, episode_num = episode))\n",
    "  print(\"Reward = \" + str(totalReward))\n",
    "  rewardEp.append(totalReward)\n",
    "  if episode > REWARD_AVG_EPS - 1:\n",
    "    movingAvgReward = np.mean(rewardEp[-REWARD_AVG_EPS:])\n",
    "    movingAvg.append(movingAvgReward)\n",
    "  else:\n",
    "    movingAvgReward = 0\n",
    "    movingAvg.append(None)\n",
    "  epsilon *= 1 - DECAY_RATE\n",
    "  terminated = False\n",
    "  # # Plot the reward\n",
    "  plt.figure(0)\n",
    "  plt.xlabel('Episode')\n",
    "  plt.ylabel('Reward')\n",
    "  plt.plot(np.array(rewardEp[:episode]))\n",
    "  plt.plot(np.array(movingAvg[:episode]), color = 'red')\n",
    "  plt.show()\n",
    "  if episode < N_EPISODES - 1:\n",
    "    clear_output(wait = True)\n",
    "#imageio.mimwrite(os.path.join('./videos/', 'q_learning.gif'), frames, fps=60000)"
   ]
  },
  {
   "cell_type": "code",
   "execution_count": 22,
   "id": "dee19097-54fa-4f7f-b58d-b3986a74d157",
   "metadata": {},
   "outputs": [],
   "source": [
    "# Specify the video frame size\n",
    "frame_width, frame_height = frames[0].size  # Assuming all images have the same size\n",
    "\n",
    "# Define the codec and create VideoWriter object\n",
    "fourcc = cv2.VideoWriter_fourcc(*'mp4v')  # You can change the codec as needed\n",
    "out = cv2.VideoWriter('./videos/output_video_test.mp4', fourcc, 25.0, (frame_width, frame_height))\n",
    "\n",
    "# Loop through each image\n",
    "for pil_image in frames:\n",
    "    # Convert PIL image to NumPy array\n",
    "    np_image = np.array(pil_image)\n",
    "    # Convert RGB to BGR (OpenCV uses BGR)\n",
    "    frame = cv2.cvtColor(np_image, cv2.COLOR_RGB2BGR)\n",
    "    out.write(frame)\n",
    "\n",
    "# Release the VideoWriter object\n",
    "out.release()"
   ]
  },
  {
   "cell_type": "code",
   "execution_count": null,
   "id": "46ec2f6c-dc09-4119-95d3-3ca29beb792a",
   "metadata": {},
   "outputs": [],
   "source": []
  }
 ],
 "metadata": {
  "kernelspec": {
   "display_name": "Python 3 (ipykernel)",
   "language": "python",
   "name": "python3"
  },
  "language_info": {
   "codemirror_mode": {
    "name": "ipython",
    "version": 3
   },
   "file_extension": ".py",
   "mimetype": "text/x-python",
   "name": "python",
   "nbconvert_exporter": "python",
   "pygments_lexer": "ipython3",
   "version": "3.11.4"
  }
 },
 "nbformat": 4,
 "nbformat_minor": 5
}
